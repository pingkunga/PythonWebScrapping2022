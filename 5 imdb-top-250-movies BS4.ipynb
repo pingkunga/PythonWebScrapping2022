{
 "cells": [
  {
   "cell_type": "code",
   "execution_count": 1,
   "id": "5685240f",
   "metadata": {
    "_cell_guid": "b1076dfc-b9ad-4769-8c92-a6c4dae69d19",
    "_uuid": "8f2839f25d086af736a60e9eeb907d3b93b6e0e5",
    "execution": {
     "iopub.execute_input": "2021-12-25T15:19:09.530823Z",
     "iopub.status.busy": "2021-12-25T15:19:09.530283Z",
     "iopub.status.idle": "2021-12-25T15:19:09.533381Z",
     "shell.execute_reply": "2021-12-25T15:19:09.533831Z",
     "shell.execute_reply.started": "2021-12-25T15:11:52.619550Z"
    },
    "papermill": {
     "duration": 0.022523,
     "end_time": "2021-12-25T15:19:09.534102",
     "exception": false,
     "start_time": "2021-12-25T15:19:09.511579",
     "status": "completed"
    },
    "tags": []
   },
   "outputs": [],
   "source": [
    "# This Python 3 environment comes with many helpful analytics libraries installed\n",
    "# It is defined by the kaggle/python Docker image: https://github.com/kaggle/docker-python\n",
    "# For example, here's several helpful packages to load\n",
    "\n",
    "import numpy as np # linear algebra\n",
    "import pandas as pd # data processing, CSV file I/O (e.g. pd.read_csv)\n",
    "\n",
    "# Input data files are available in the read-only \"../input/\" directory\n",
    "# For example, running this (by clicking run or pressing Shift+Enter) will list all files under the input directory\n",
    "\n",
    "import os\n",
    "for dirname, _, filenames in os.walk('/kaggle/input'):\n",
    "    for filename in filenames:\n",
    "        print(os.path.join(dirname, filename))\n",
    "\n",
    "# You can write up to 20GB to the current directory (/kaggle/working/) that gets preserved as output when you create a version using \"Save & Run All\" \n",
    "# You can also write temporary files to /kaggle/temp/, but they won't be saved outside of the current session"
   ]
  },
  {
   "cell_type": "markdown",
   "id": "69316b92",
   "metadata": {
    "papermill": {
     "duration": 0.007869,
     "end_time": "2021-12-25T15:19:09.552357",
     "exception": false,
     "start_time": "2021-12-25T15:19:09.544488",
     "status": "completed"
    },
    "tags": []
   },
   "source": [
    "## Installing required libraries"
   ]
  },
  {
   "cell_type": "code",
   "execution_count": 2,
   "id": "f2a79886",
   "metadata": {
    "execution": {
     "iopub.execute_input": "2021-12-25T15:19:09.570935Z",
     "iopub.status.busy": "2021-12-25T15:19:09.570424Z",
     "iopub.status.idle": "2021-12-25T15:19:17.764741Z",
     "shell.execute_reply": "2021-12-25T15:19:17.764165Z",
     "shell.execute_reply.started": "2021-12-25T15:12:14.996410Z"
    },
    "papermill": {
     "duration": 8.204537,
     "end_time": "2021-12-25T15:19:17.764877",
     "exception": false,
     "start_time": "2021-12-25T15:19:09.560340",
     "status": "completed"
    },
    "tags": []
   },
   "outputs": [
    {
     "name": "stdout",
     "output_type": "stream",
     "text": [
      "Requirement already satisfied: beautifulsoup4 in c:\\users\\chatr\\anaconda3\\lib\\site-packages (4.11.1)\n",
      "Requirement already satisfied: soupsieve>1.2 in c:\\users\\chatr\\anaconda3\\lib\\site-packages (from beautifulsoup4) (2.3.1)\n",
      "Note: you may need to restart the kernel to use updated packages.\n"
     ]
    }
   ],
   "source": [
    "pip install beautifulsoup4"
   ]
  },
  {
   "cell_type": "code",
   "execution_count": 3,
   "id": "1d7174ae",
   "metadata": {
    "execution": {
     "iopub.execute_input": "2021-12-25T15:19:17.792682Z",
     "iopub.status.busy": "2021-12-25T15:19:17.792129Z",
     "iopub.status.idle": "2021-12-25T15:19:24.826293Z",
     "shell.execute_reply": "2021-12-25T15:19:24.827016Z",
     "shell.execute_reply.started": "2021-12-25T15:12:47.848778Z"
    },
    "papermill": {
     "duration": 7.052873,
     "end_time": "2021-12-25T15:19:24.827240",
     "exception": false,
     "start_time": "2021-12-25T15:19:17.774367",
     "status": "completed"
    },
    "tags": []
   },
   "outputs": [
    {
     "name": "stdout",
     "output_type": "stream",
     "text": [
      "Requirement already satisfied: requests in c:\\users\\chatr\\anaconda3\\lib\\site-packages (2.28.1)\n",
      "Requirement already satisfied: certifi>=2017.4.17 in c:\\users\\chatr\\anaconda3\\lib\\site-packages (from requests) (2022.9.14)\n",
      "Requirement already satisfied: urllib3<1.27,>=1.21.1 in c:\\users\\chatr\\anaconda3\\lib\\site-packages (from requests) (1.26.11)\n",
      "Requirement already satisfied: idna<4,>=2.5 in c:\\users\\chatr\\anaconda3\\lib\\site-packages (from requests) (3.3)\n",
      "Requirement already satisfied: charset-normalizer<3,>=2 in c:\\users\\chatr\\anaconda3\\lib\\site-packages (from requests) (2.0.4)\n",
      "Note: you may need to restart the kernel to use updated packages.\n"
     ]
    }
   ],
   "source": [
    "pip install requests"
   ]
  },
  {
   "cell_type": "code",
   "execution_count": 4,
   "id": "3303ed1d",
   "metadata": {
    "execution": {
     "iopub.execute_input": "2021-12-25T15:19:24.853767Z",
     "iopub.status.busy": "2021-12-25T15:19:24.853188Z",
     "iopub.status.idle": "2021-12-25T15:19:33.938308Z",
     "shell.execute_reply": "2021-12-25T15:19:33.937653Z",
     "shell.execute_reply.started": "2021-12-25T15:13:02.063100Z"
    },
    "papermill": {
     "duration": 9.099939,
     "end_time": "2021-12-25T15:19:33.938447",
     "exception": false,
     "start_time": "2021-12-25T15:19:24.838508",
     "status": "completed"
    },
    "tags": []
   },
   "outputs": [
    {
     "name": "stdout",
     "output_type": "stream",
     "text": [
      "Requirement already satisfied: openpyxl in c:\\users\\chatr\\anaconda3\\lib\\site-packages (3.0.10)\n",
      "Requirement already satisfied: et_xmlfile in c:\\users\\chatr\\anaconda3\\lib\\site-packages (from openpyxl) (1.1.0)\n"
     ]
    }
   ],
   "source": [
    "!pip install openpyxl"
   ]
  },
  {
   "cell_type": "markdown",
   "id": "7aefdd48",
   "metadata": {
    "papermill": {
     "duration": 0.012837,
     "end_time": "2021-12-25T15:19:33.964671",
     "exception": false,
     "start_time": "2021-12-25T15:19:33.951834",
     "status": "completed"
    },
    "tags": []
   },
   "source": [
    "## Imports"
   ]
  },
  {
   "cell_type": "code",
   "execution_count": 1,
   "id": "96c1e85b",
   "metadata": {
    "execution": {
     "iopub.execute_input": "2021-12-25T15:19:33.996190Z",
     "iopub.status.busy": "2021-12-25T15:19:33.995550Z",
     "iopub.status.idle": "2021-12-25T15:19:34.467455Z",
     "shell.execute_reply": "2021-12-25T15:19:34.466899Z",
     "shell.execute_reply.started": "2021-12-25T15:15:19.717286Z"
    },
    "papermill": {
     "duration": 0.489799,
     "end_time": "2021-12-25T15:19:34.467587",
     "exception": false,
     "start_time": "2021-12-25T15:19:33.977788",
     "status": "completed"
    },
    "tags": []
   },
   "outputs": [],
   "source": [
    "# Importing required libraries\n",
    "from bs4 import BeautifulSoup\n",
    "import requests, openpyxl"
   ]
  },
  {
   "cell_type": "markdown",
   "id": "8e7a7314",
   "metadata": {
    "papermill": {
     "duration": 0.012874,
     "end_time": "2021-12-25T15:19:34.493546",
     "exception": false,
     "start_time": "2021-12-25T15:19:34.480672",
     "status": "completed"
    },
    "tags": []
   },
   "source": [
    "## Preparing Excel Sheet"
   ]
  },
  {
   "cell_type": "code",
   "execution_count": 2,
   "id": "ce336a08",
   "metadata": {
    "execution": {
     "iopub.execute_input": "2021-12-25T15:19:34.522661Z",
     "iopub.status.busy": "2021-12-25T15:19:34.522070Z",
     "iopub.status.idle": "2021-12-25T15:19:34.526608Z",
     "shell.execute_reply": "2021-12-25T15:19:34.527060Z",
     "shell.execute_reply.started": "2021-12-25T15:15:38.229353Z"
    },
    "papermill": {
     "duration": 0.020765,
     "end_time": "2021-12-25T15:19:34.527221",
     "exception": false,
     "start_time": "2021-12-25T15:19:34.506456",
     "status": "completed"
    },
    "tags": []
   },
   "outputs": [],
   "source": [
    "#Creating excel file\n",
    "excel = openpyxl.Workbook()\n",
    "sheet = excel.active"
   ]
  },
  {
   "cell_type": "code",
   "execution_count": 3,
   "id": "5d536623",
   "metadata": {
    "execution": {
     "iopub.execute_input": "2021-12-25T15:19:34.556154Z",
     "iopub.status.busy": "2021-12-25T15:19:34.555575Z",
     "iopub.status.idle": "2021-12-25T15:19:34.558340Z",
     "shell.execute_reply": "2021-12-25T15:19:34.558759Z",
     "shell.execute_reply.started": "2021-12-25T15:15:46.361818Z"
    },
    "papermill": {
     "duration": 0.018608,
     "end_time": "2021-12-25T15:19:34.558905",
     "exception": false,
     "start_time": "2021-12-25T15:19:34.540297",
     "status": "completed"
    },
    "tags": []
   },
   "outputs": [],
   "source": [
    "#Changing sheet name\n",
    "sheet.title = 'IMDb Top 250 Movies'"
   ]
  },
  {
   "cell_type": "code",
   "execution_count": 4,
   "id": "67ed494e",
   "metadata": {
    "execution": {
     "iopub.execute_input": "2021-12-25T15:19:34.590039Z",
     "iopub.status.busy": "2021-12-25T15:19:34.589246Z",
     "iopub.status.idle": "2021-12-25T15:19:34.591279Z",
     "shell.execute_reply": "2021-12-25T15:19:34.591705Z",
     "shell.execute_reply.started": "2021-12-25T15:15:55.208060Z"
    },
    "papermill": {
     "duration": 0.019911,
     "end_time": "2021-12-25T15:19:34.591849",
     "exception": false,
     "start_time": "2021-12-25T15:19:34.571938",
     "status": "completed"
    },
    "tags": []
   },
   "outputs": [],
   "source": [
    "#Adding a row\n",
    "sheet.append(['Rank','Movie Name','Year of release','IMDB Rating'])"
   ]
  },
  {
   "cell_type": "markdown",
   "id": "222c1015",
   "metadata": {
    "papermill": {
     "duration": 0.012999,
     "end_time": "2021-12-25T15:19:34.617759",
     "exception": false,
     "start_time": "2021-12-25T15:19:34.604760",
     "status": "completed"
    },
    "tags": []
   },
   "source": [
    "## Web Scraper"
   ]
  },
  {
   "cell_type": "code",
   "execution_count": 5,
   "id": "f45e7654",
   "metadata": {
    "execution": {
     "iopub.execute_input": "2021-12-25T15:19:34.646726Z",
     "iopub.status.busy": "2021-12-25T15:19:34.645838Z",
     "iopub.status.idle": "2021-12-25T15:19:37.635859Z",
     "shell.execute_reply": "2021-12-25T15:19:37.636416Z",
     "shell.execute_reply.started": "2021-12-25T15:18:30.084374Z"
    },
    "papermill": {
     "duration": 3.006025,
     "end_time": "2021-12-25T15:19:37.636586",
     "exception": false,
     "start_time": "2021-12-25T15:19:34.630561",
     "status": "completed"
    },
    "tags": []
   },
   "outputs": [
    {
     "name": "stdout",
     "output_type": "stream",
     "text": [
      "1 The Shawshank Redemption 1994 9.2\n",
      "2 The Godfather 1972 9.2\n",
      "3 The Dark Knight 2008 9.0\n",
      "4 The Godfather Part II 1974 9.0\n",
      "5 12 Angry Men 1957 9.0\n",
      "6 Schindler's List 1993 8.9\n",
      "7 The Lord of the Rings: The Return of the King 2003 8.9\n",
      "8 Pulp Fiction 1994 8.8\n",
      "9 The Lord of the Rings: The Fellowship of the Ring 2001 8.8\n",
      "10 Il buono, il brutto, il cattivo 1966 8.8\n",
      "11 Forrest Gump 1994 8.8\n",
      "12 Fight Club 1999 8.7\n",
      "13 Inception 2010 8.7\n",
      "14 The Lord of the Rings: The Two Towers 2002 8.7\n",
      "15 The Empire Strikes Back 1980 8.7\n",
      "16 The Matrix 1999 8.7\n",
      "17 Goodfellas 1990 8.7\n",
      "18 One Flew Over the Cuckoo's Nest 1975 8.6\n",
      "19 Se7en 1995 8.6\n",
      "20 Shichinin no samurai 1954 8.6\n",
      "21 It's a Wonderful Life 1946 8.6\n",
      "22 The Silence of the Lambs 1991 8.6\n",
      "23 Cidade de Deus 2002 8.6\n",
      "24 Saving Private Ryan 1998 8.6\n",
      "25 La vita è bella 1997 8.6\n",
      "26 Interstellar 2014 8.6\n",
      "27 The Green Mile 1999 8.6\n",
      "28 Star Wars 1977 8.6\n",
      "29 Terminator 2: Judgment Day 1991 8.5\n",
      "30 Back to the Future 1985 8.5\n",
      "31 Sen to Chihiro no kamikakushi 2001 8.5\n",
      "32 Psycho 1960 8.5\n",
      "33 The Pianist 2002 8.5\n",
      "34 Gisaengchung 2019 8.5\n",
      "35 Léon 1994 8.5\n",
      "36 The Lion King 1994 8.5\n",
      "37 Gladiator 2000 8.5\n",
      "38 American History X 1998 8.5\n",
      "39 The Departed 2006 8.5\n",
      "40 The Usual Suspects 1995 8.5\n",
      "41 The Prestige 2006 8.5\n",
      "42 Whiplash 2014 8.5\n",
      "43 Casablanca 1942 8.5\n",
      "44 The Intouchables 2011 8.5\n",
      "45 Seppuku 1962 8.5\n",
      "46 Hotaru no haka 1988 8.5\n",
      "47 Modern Times 1936 8.4\n",
      "48 Once Upon a Time in the West 1968 8.4\n",
      "49 Rear Window 1954 8.4\n",
      "50 Alien 1979 8.4\n",
      "51 City Lights 1931 8.4\n",
      "52 Nuovo Cinema Paradiso 1988 8.4\n",
      "53 Apocalypse Now 1979 8.4\n",
      "54 Memento 2000 8.4\n",
      "55 Raiders of the Lost Ark 1981 8.4\n",
      "56 Django Unchained 2012 8.4\n",
      "57 WALL·E 2008 8.4\n",
      "58 The Lives of Others 2006 8.4\n",
      "59 Sunset Blvd. 1950 8.4\n",
      "60 Paths of Glory 1957 8.4\n",
      "61 The Shining 1980 8.4\n",
      "62 The Great Dictator 1940 8.4\n",
      "63 Witness for the Prosecution 1957 8.4\n",
      "64 Avengers: Infinity War 2018 8.4\n",
      "65 Aliens 1986 8.3\n",
      "66 American Beauty 1999 8.3\n",
      "67 Spider-Man: Into the Spider-Verse 2018 8.3\n",
      "68 Dr. Strangelove or: How I Learned to Stop Worrying and Love the Bomb 1964 8.3\n",
      "69 The Dark Knight Rises 2012 8.3\n",
      "70 Oldeuboi 2003 8.3\n",
      "71 Joker 2019 8.3\n",
      "72 Amadeus 1984 8.3\n",
      "73 Inglourious Basterds 2009 8.3\n",
      "74 Toy Story 1995 8.3\n",
      "75 Coco 2017 8.3\n",
      "76 Braveheart 1995 8.3\n",
      "77 Das Boot 1981 8.3\n",
      "78 Avengers: Endgame 2019 8.3\n",
      "79 Mononoke-hime 1997 8.3\n",
      "80 Top Gun: Maverick 2022 8.3\n",
      "81 Once Upon a Time in America 1984 8.3\n",
      "82 Good Will Hunting 1997 8.3\n",
      "83 Kimi no na wa. 2016 8.3\n",
      "84 Requiem for a Dream 2000 8.3\n",
      "85 Toy Story 3 2010 8.3\n",
      "86 Singin' in the Rain 1952 8.3\n",
      "87 3 Idiots 2009 8.3\n",
      "88 Tengoku to jigoku 1963 8.3\n",
      "89 Star Wars: Episode VI - Return of the Jedi 1983 8.3\n",
      "90 2001: A Space Odyssey 1968 8.3\n",
      "91 Eternal Sunshine of the Spotless Mind 2004 8.3\n",
      "92 Capharnaüm 2018 8.3\n",
      "93 Reservoir Dogs 1992 8.3\n",
      "94 Jagten 2012 8.3\n",
      "95 Citizen Kane 1941 8.3\n",
      "96 Lawrence of Arabia 1962 8.3\n",
      "97 M - Eine Stadt sucht einen Mörder 1931 8.3\n",
      "98 Idi i smotri 1985 8.3\n",
      "99 North by Northwest 1959 8.2\n",
      "100 Vertigo 1958 8.2\n",
      "101 Le fabuleux destin d'Amélie Poulain 2001 8.2\n",
      "102 A Clockwork Orange 1971 8.2\n",
      "103 The Apartment 1960 8.2\n",
      "104 Double Indemnity 1944 8.2\n",
      "105 Full Metal Jacket 1987 8.2\n",
      "106 Ikiru 1952 8.2\n",
      "107 Scarface 1983 8.2\n",
      "108 Hamilton 2020 8.2\n",
      "109 The Sting 1973 8.2\n",
      "110 To Kill a Mockingbird 1962 8.2\n",
      "111 Heat 1995 8.2\n",
      "112 Up 2009 8.2\n",
      "113 Incendies 2010 8.2\n",
      "114 Taxi Driver 1976 8.2\n",
      "115 Metropolis 1927 8.2\n",
      "116 Jodaeiye Nader az Simin 2011 8.2\n",
      "117 L.A. Confidential 1997 8.2\n",
      "118 Snatch 2000 8.2\n",
      "119 Die Hard 1988 8.2\n",
      "120 Ladri di biciclette 1948 8.2\n",
      "121 Indiana Jones and the Last Crusade 1989 8.2\n",
      "122 Taare Zameen Par 2007 8.2\n",
      "123 1917 2019 8.2\n",
      "124 Der Untergang 2004 8.2\n",
      "125 Per qualche dollaro in più 1965 8.2\n",
      "126 Batman Begins 2005 8.2\n",
      "127 Dangal 2016 8.2\n",
      "128 The Kid 1921 8.2\n",
      "129 Some Like It Hot 1959 8.2\n",
      "130 The Father 2020 8.2\n",
      "131 All About Eve 1950 8.2\n",
      "132 Green Book 2018 8.2\n",
      "133 The Wolf of Wall Street 2013 8.2\n",
      "134 Judgment at Nuremberg 1961 8.2\n",
      "135 Ran 1985 8.2\n",
      "136 Casino 1995 8.2\n",
      "137 Pan's Labyrinth 2006 8.2\n",
      "138 Unforgiven 1992 8.2\n",
      "139 There Will Be Blood 2007 8.2\n",
      "140 The Truman Show 1998 8.2\n",
      "141 Spider-Man: No Way Home 2021 8.2\n",
      "142 The Sixth Sense 1999 8.2\n",
      "143 A Beautiful Mind 2001 8.2\n",
      "144 Yôjinbô 1961 8.1\n",
      "145 Monty Python and the Holy Grail 1975 8.1\n",
      "146 The Treasure of the Sierra Madre 1948 8.1\n",
      "147 Shutter Island 2010 8.1\n",
      "148 Jurassic Park 1993 8.1\n",
      "149 Rashômon 1950 8.1\n",
      "150 The Great Escape 1963 8.1\n",
      "151 Kill Bill: Vol. 1 2003 8.1\n",
      "152 No Country for Old Men 2007 8.1\n",
      "153 Finding Nemo 2003 8.1\n",
      "154 The Elephant Man 1980 8.1\n",
      "155 The Thing 1982 8.1\n",
      "156 Chinatown 1974 8.1\n",
      "157 Raging Bull 1980 8.1\n",
      "158 Gone with the Wind 1939 8.1\n",
      "159 V for Vendetta 2005 8.1\n",
      "160 Inside Out 2015 8.1\n",
      "161 Lock, Stock and Two Smoking Barrels 1998 8.1\n",
      "162 Dial M for Murder 1954 8.1\n",
      "163 El secreto de sus ojos 2009 8.1\n",
      "164 Hauru no ugoku shiro 2004 8.1\n",
      "165 The Bridge on the River Kwai 1957 8.1\n",
      "166 Three Billboards Outside Ebbing, Missouri 2017 8.1\n",
      "167 Trainspotting 1996 8.1\n",
      "168 Warrior 2011 8.1\n",
      "169 Gran Torino 2008 8.1\n",
      "170 Fargo 1996 8.1\n",
      "171 Prisoners 2013 8.1\n",
      "172 Tonari no Totoro 1988 8.1\n",
      "173 Million Dollar Baby 2004 8.1\n",
      "174 Catch Me If You Can 2002 8.1\n",
      "175 The Gold Rush 1925 8.1\n",
      "176 Bacheha-Ye aseman 1997 8.1\n",
      "177 Blade Runner 1982 8.1\n",
      "178 On the Waterfront 1954 8.1\n",
      "179 12 Years a Slave 2013 8.1\n",
      "180 Before Sunrise 1995 8.1\n",
      "181 The Third Man 1949 8.1\n",
      "182 Smultronstället 1957 8.1\n",
      "183 Harry Potter and the Deathly Hallows: Part 2 2011 8.1\n",
      "184 Ben-Hur 1959 8.1\n",
      "185 Gone Girl 2014 8.1\n",
      "186 The General 1926 8.1\n",
      "187 The Deer Hunter 1978 8.1\n",
      "188 The Grand Budapest Hotel 2014 8.1\n",
      "189 In the Name of the Father 1993 8.1\n",
      "190 Barry Lyndon 1975 8.1\n",
      "191 Le salaire de la peur 1953 8.1\n",
      "192 Sherlock Jr. 1924 8.1\n",
      "193 Mr. Smith Goes to Washington 1939 8.1\n",
      "194 Klaus 2019 8.1\n",
      "195 Hacksaw Ridge 2016 8.1\n",
      "196 Salinui chueok 2003 8.1\n",
      "197 Relatos salvajes 2014 8.1\n",
      "198 Det sjunde inseglet 1957 8.1\n",
      "199 Room 2015 8.1\n",
      "200 Mad Max: Fury Road 2015 8.1\n",
      "201 Mary and Max. 2009 8.1\n",
      "202 How to Train Your Dragon 2010 8.1\n",
      "203 The Big Lebowski 1998 8.1\n",
      "204 Monsters, Inc. 2001 8.1\n",
      "205 Jaws 1975 8.1\n",
      "206 Tôkyô monogatari 1953 8.1\n",
      "207 La passion de Jeanne d'Arc 1928 8.1\n",
      "208 Dead Poets Society 1989 8.1\n",
      "209 Hotel Rwanda 2004 8.1\n",
      "210 Ford v Ferrari 2019 8.0\n",
      "211 Rocky 1976 8.0\n",
      "212 Platoon 1986 8.0\n",
      "213 Pather Panchali 1955 8.0\n",
      "214 Stand by Me 1986 8.0\n",
      "215 The Terminator 1984 8.0\n",
      "216 Spotlight 2015 8.0\n",
      "217 Logan 2017 8.0\n",
      "218 Rush 2013 8.0\n",
      "219 Ratatouille 2007 8.0\n",
      "220 Network 1976 8.0\n",
      "221 Everything Everywhere All at Once 2022 8.0\n",
      "222 Into the Wild 2007 8.0\n",
      "223 The Wizard of Oz 1939 8.0\n",
      "224 Before Sunset 2004 8.0\n",
      "225 Groundhog Day 1993 8.0\n",
      "226 The Exorcist 1973 8.0\n",
      "227 Jai Bhim 2021 8.0\n",
      "228 The Best Years of Our Lives 1946 8.0\n",
      "229 The Incredibles 2004 8.0\n",
      "230 To Be or Not to Be 1942 8.0\n",
      "231 La battaglia di Algeri 1966 8.0\n",
      "232 Hachi: A Dog's Tale 2009 8.0\n",
      "233 The Grapes of Wrath 1940 8.0\n",
      "234 Rebecca 1940 8.0\n",
      "235 Pirates of the Caribbean: The Curse of the Black Pearl 2003 8.0\n",
      "236 Amores perros 2000 8.0\n",
      "237 Babam ve Oglum 2005 8.0\n",
      "238 La haine 1995 8.0\n",
      "239 Cool Hand Luke 1967 8.0\n",
      "240 Les quatre cents coups 1959 8.0\n",
      "241 Persona 1966 8.0\n",
      "242 Ah-ga-ssi 2016 8.0\n",
      "243 It Happened One Night 1934 8.0\n",
      "244 The Sound of Music 1965 8.0\n",
      "245 Life of Brian 1979 8.0\n",
      "246 Dersu Uzala 1975 8.0\n",
      "247 The Help 2011 8.0\n",
      "248 Gandhi 1982 8.0\n",
      "249 Aladdin 1992 8.0\n",
      "250 The Iron Giant 1999 8.0\n"
     ]
    }
   ],
   "source": [
    "# Scraping required data\n",
    "try:\n",
    "    html = requests.get('https://www.imdb.com/chart/top/')\n",
    "    html.raise_for_status()\n",
    "\n",
    "    soup = BeautifulSoup(html.text,'html.parser')\n",
    "    movies = soup.find('tbody',class_='lister-list').find_all('tr')\n",
    "    for movie in movies:\n",
    "        name = movie.find('td',class_='titleColumn').a.text\n",
    "        rank = movie.find('td',class_='titleColumn').get_text(strip=True).split('.')[0]\n",
    "        year = movie.find('td',class_='titleColumn').span.text.strip('()')\n",
    "        rating = movie.find('td',class_='ratingColumn imdbRating').strong.text\n",
    "        print(rank,name, year, rating)\n",
    "        sheet.append([rank,name, year, rating])\n",
    "except Exception as e:\n",
    "    print(e)"
   ]
  },
  {
   "cell_type": "code",
   "execution_count": 7,
   "id": "e1b2aabc",
   "metadata": {
    "execution": {
     "iopub.execute_input": "2021-12-25T15:19:37.668168Z",
     "iopub.status.busy": "2021-12-25T15:19:37.667587Z",
     "iopub.status.idle": "2021-12-25T15:19:37.689536Z",
     "shell.execute_reply": "2021-12-25T15:19:37.689035Z",
     "shell.execute_reply.started": "2021-12-25T15:18:37.622500Z"
    },
    "papermill": {
     "duration": 0.039212,
     "end_time": "2021-12-25T15:19:37.689669",
     "exception": false,
     "start_time": "2021-12-25T15:19:37.650457",
     "status": "completed"
    },
    "tags": []
   },
   "outputs": [],
   "source": [
    "#Saving the excel file\n",
    "excel.save('IMDb Top 250 Movies.xlsx')"
   ]
  },
  {
   "cell_type": "code",
   "execution_count": null,
   "id": "6d1336f5",
   "metadata": {},
   "outputs": [],
   "source": []
  },
  {
   "cell_type": "code",
   "execution_count": null,
   "id": "babbe612",
   "metadata": {},
   "outputs": [],
   "source": []
  }
 ],
 "metadata": {
  "kernelspec": {
   "display_name": "Python 3 (ipykernel)",
   "language": "python",
   "name": "python3"
  },
  "language_info": {
   "codemirror_mode": {
    "name": "ipython",
    "version": 3
   },
   "file_extension": ".py",
   "mimetype": "text/x-python",
   "name": "python",
   "nbconvert_exporter": "python",
   "pygments_lexer": "ipython3",
   "version": "3.9.13"
  },
  "papermill": {
   "default_parameters": {},
   "duration": 37.481987,
   "end_time": "2021-12-25T15:19:38.312748",
   "environment_variables": {},
   "exception": null,
   "input_path": "__notebook__.ipynb",
   "output_path": "__notebook__.ipynb",
   "parameters": {},
   "start_time": "2021-12-25T15:19:00.830761",
   "version": "2.3.3"
  }
 },
 "nbformat": 4,
 "nbformat_minor": 5
}
