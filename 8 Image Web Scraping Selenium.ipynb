{
 "cells": [
  {
   "cell_type": "markdown",
   "metadata": {},
   "source": [
    "<br><br>\n",
    "<center><u><H1>Image Web Scraping with Selenium</H1></u></center>"
   ]
  },
  {
   "cell_type": "code",
   "execution_count": 10,
   "metadata": {},
   "outputs": [],
   "source": [
    "import os\n",
    "import selenium\n",
    "from selenium import webdriver\n",
    "import time\n",
    "from PIL import Image\n",
    "import io\n",
    "import requests"
   ]
  },
  {
   "cell_type": "markdown",
   "metadata": {},
   "source": [
    "Download Chrom Driver https://chromedriver.chromium.org/home\n",
    "Check Path images_path = f'./8img/' exist"
   ]
  },
  {
   "cell_type": "code",
   "execution_count": 8,
   "metadata": {},
   "outputs": [],
   "source": [
    "DRIVER_PATH = 'C:/Users/Chatr/Downloads/chromedriver_win32/chromedriver.exe'\n",
    "\n",
    "def image_urls(string, max_links, driver):\n",
    "    \n",
    "    def scroll_to_end(driver):\n",
    "        driver.execute_script(\"window.scrollTo(0, document.body.scrollHeight);\")\n",
    "        time.sleep(2)#sleep_between_interactions    \n",
    "    \n",
    "    search_url = \"https://www.google.com/search?safe=off&site=&tbm=isch&source=hp&q={q}&oq={q}&gs_l=img\"\n",
    "\n",
    "    driver.get(search_url.format(q=string))\n",
    "\n",
    "    image_urls = set()\n",
    "    image_count = 0\n",
    "    results_start = 0\n",
    "    \n",
    "    while image_count < max_links:\n",
    "        scroll_to_end(driver)\n",
    "\n",
    "        thumbnail_results = driver.find_elements_by_css_selector(\"img.Q4LuWd\")\n",
    "        number_results = len(thumbnail_results)\n",
    "        \n",
    "        print(f\"Found: {number_results} search results. Extracting links from {results_start}:{number_results}\")\n",
    "        \n",
    "        for img in thumbnail_results[results_start:number_results]:\n",
    "            \n",
    "            try:\n",
    "                img.click()\n",
    "                time.sleep(1)\n",
    "            except Exception:\n",
    "                continue\n",
    "  \n",
    "            actual_images = driver.find_elements_by_css_selector('img.n3VNCb')\n",
    "            \n",
    "            for actual_image in actual_images:\n",
    "                if actual_image.get_attribute('src') and 'http' in actual_image.get_attribute('src'):\n",
    "                    image_urls.add(actual_image.get_attribute('src'))\n",
    "\n",
    "            image_count = len(image_urls)\n",
    "\n",
    "            if image_count >= max_links:\n",
    "                print(f\"Found: {image_count} image links\")\n",
    "                break\n",
    "        else:\n",
    "            print(\"Found:\", image_count, \"looking for more image links ...\")\n",
    "            time.sleep(30)\n",
    "            return\n",
    "            \n",
    "            load_more_button = driver.find_element_by_css_selector(\".mye4qd\")\n",
    "            \n",
    "            if load_more_button:\n",
    "                driver.execute_script(\"document.querySelector('.mye4qd').click();\")\n",
    "\n",
    "        results_start = len(thumbnail_results)\n",
    "\n",
    "    return image_urls\n",
    "\n",
    "def save_images(folder_path,file_name,url):\n",
    "    try:\n",
    "        image_content = requests.get(url).content\n",
    "\n",
    "    except Exception as e:\n",
    "        print(f\"ERROR - COULD NOT DOWNLOAD {url} - {e}\")\n",
    "\n",
    "    try:\n",
    "        image_file = io.BytesIO(image_content)\n",
    "        image = Image.open(image_file).convert('RGB')\n",
    "        \n",
    "        file_path = os.path.join(folder_path, file_name)\n",
    "        \n",
    "        with open(file_path, 'wb') as f:\n",
    "            image.save(f, \"JPEG\", quality=85)\n",
    "        print(f\"SAVED - {url} - AT: {file_path}\")\n",
    "    except Exception as e:\n",
    "        print(f\"ERROR - COULD NOT SAVE {url} - {e}\")"
   ]
  },
  {
   "cell_type": "code",
   "execution_count": 9,
   "metadata": {
    "scrolled": true
   },
   "outputs": [
    {
     "name": "stderr",
     "output_type": "stream",
     "text": [
      "C:\\Users\\Chatr\\AppData\\Local\\Temp\\ipykernel_21296\\2278161733.py:1: DeprecationWarning: executable_path has been deprecated, please pass in a Service object\n",
      "  driver = webdriver.Chrome(executable_path=DRIVER_PATH)\n",
      "C:\\Users\\Chatr\\AppData\\Local\\Temp\\ipykernel_21296\\2278161733.py:11: DeprecationWarning: find_element_by_css_selector is deprecated. Please use find_element(by=By.CSS_SELECTOR, value=css_selector) instead\n",
      "  search_box = driver.find_element_by_css_selector('input.gLFyf')\n",
      "C:\\Users\\Chatr\\AppData\\Local\\Temp\\ipykernel_21296\\3582066582.py:20: DeprecationWarning: find_elements_by_css_selector is deprecated. Please use find_elements(by=By.CSS_SELECTOR, value=css_selector) instead\n",
      "  thumbnail_results = driver.find_elements_by_css_selector(\"img.Q4LuWd\")\n"
     ]
    },
    {
     "name": "stdout",
     "output_type": "stream",
     "text": [
      "Found: 100 search results. Extracting links from 0:100\n"
     ]
    },
    {
     "name": "stderr",
     "output_type": "stream",
     "text": [
      "C:\\Users\\Chatr\\AppData\\Local\\Temp\\ipykernel_21296\\3582066582.py:33: DeprecationWarning: find_elements_by_css_selector is deprecated. Please use find_elements(by=By.CSS_SELECTOR, value=css_selector) instead\n",
      "  actual_images = driver.find_elements_by_css_selector('img.n3VNCb')\n"
     ]
    },
    {
     "name": "stdout",
     "output_type": "stream",
     "text": [
      "Found: 5 image links\n"
     ]
    },
    {
     "name": "stderr",
     "output_type": "stream",
     "text": [
      "C:\\Users\\Chatr\\anaconda3\\lib\\site-packages\\PIL\\Image.py:959: UserWarning: Palette images with Transparency expressed in bytes should be converted to RGBA images\n",
      "  warnings.warn(\n"
     ]
    },
    {
     "name": "stdout",
     "output_type": "stream",
     "text": [
      "SAVED - https://cms.eichertrucksandbuses.com/uploads/truck/sub-category/a933e5958e4a354cfb8d22665bd244fd.png - AT: ./8img/bus\\000000.jpg\n",
      "SAVED - https://www.eichertrucksandbuses.com/front/images/buses_img01.png - AT: ./8img/bus\\000001.jpg\n",
      "SAVED - https://i.pinimg.com/originals/0f/0b/2c/0f0b2cfb4d43228e8d4ef10476ffdd9a.png - AT: ./8img/bus\\000002.jpg\n",
      "SAVED - https://assetsw.bus.com/content/uploads/2020/02/14170850/Charter-Bus-Rentals-Photo.jpg - AT: ./8img/bus\\000003.jpg\n",
      "SAVED - https://upload.wikimedia.org/wikipedia/commons/thumb/6/63/LT_471_%28LTZ_1471%29_Arriva_London_New_Routemaster_%2819522859218%29.jpg/1200px-LT_471_%28LTZ_1471%29_Arriva_London_New_Routemaster_%2819522859218%29.jpg - AT: ./8img/bus\\000004.jpg\n",
      "Found: 100 search results. Extracting links from 0:100\n",
      "Found: 5 image links\n",
      "SAVED - https://prod-ripcut-delivery.disney-plus.net/v1/variant/disney/E8AE6930B0A452C2FB77C15CFC0F5C0AE3C0FED690FED059698C650B11EA6BFF/scale?width=1200&aspectRatio=1.78&format=jpeg - AT: ./8img/cars\\000000.jpg\n",
      "SAVED - https://cdn.motor1.com/images/mgl/mrz1e/s3/coolest-cars-feature.jpg - AT: ./8img/cars\\000001.jpg\n",
      "SAVED - https://upload.wikimedia.org/wikipedia/en/3/34/Cars_2006.jpg - AT: ./8img/cars\\000002.jpg\n",
      "SAVED - https://imageio.forbes.com/specials-images/imageserve/5f962df3991e5636a2f68758/0x0.jpg?format=jpg&crop=812,457,x89,y103,safe&width=1200 - AT: ./8img/cars\\000003.jpg\n",
      "SAVED - https://imageio.forbes.com/specials-images/imageserve/5d35eacaf1176b0008974b54/2020-Chevrolet-Corvette-Stingray/0x0.jpg?format=jpg&crop=4560,2565,x790,y784,safe&width=960 - AT: ./8img/cars\\000004.jpg\n"
     ]
    }
   ],
   "source": [
    "driver = webdriver.Chrome(executable_path=DRIVER_PATH)\n",
    "search_names = [\"bus\",\"cars\"]\n",
    "images_path = f'./8img/'\n",
    "\n",
    "for name in search_names:\n",
    "    path = os.path.join(images_path,name)\n",
    "    if not os.path.isdir(path):\n",
    "        os.mkdir(path)\n",
    "\n",
    "    driver.get('https://google.com')\n",
    "    search_box = driver.find_element_by_css_selector('input.gLFyf')\n",
    "    search_box.send_keys(name)\n",
    "    links = image_urls(name,5,driver)\n",
    "\n",
    "    for i, link in enumerate(links):\n",
    "        file_name = f\"{i:06}.jpg\"\n",
    "        save_images(path,file_name,link)\n",
    "driver.quit()"
   ]
  },
  {
   "cell_type": "markdown",
   "metadata": {},
   "source": [
    "## Reference:\n",
    "- https://selenium-python.readthedocs.io/installation.html"
   ]
  },
  {
   "cell_type": "code",
   "execution_count": null,
   "metadata": {},
   "outputs": [],
   "source": []
  },
  {
   "cell_type": "code",
   "execution_count": null,
   "metadata": {},
   "outputs": [],
   "source": []
  }
 ],
 "metadata": {
  "kernelspec": {
   "display_name": "Python 3 (ipykernel)",
   "language": "python",
   "name": "python3"
  },
  "language_info": {
   "codemirror_mode": {
    "name": "ipython",
    "version": 3
   },
   "file_extension": ".py",
   "mimetype": "text/x-python",
   "name": "python",
   "nbconvert_exporter": "python",
   "pygments_lexer": "ipython3",
   "version": "3.9.13"
  },
  "toc": {
   "base_numbering": 1,
   "nav_menu": {},
   "number_sections": true,
   "sideBar": true,
   "skip_h1_title": false,
   "title_cell": "Table of Contents",
   "title_sidebar": "Contents",
   "toc_cell": false,
   "toc_position": {},
   "toc_section_display": true,
   "toc_window_display": false
  },
  "varInspector": {
   "cols": {
    "lenName": 16,
    "lenType": 16,
    "lenVar": 40
   },
   "kernels_config": {
    "python": {
     "delete_cmd_postfix": "",
     "delete_cmd_prefix": "del ",
     "library": "var_list.py",
     "varRefreshCmd": "print(var_dic_list())"
    },
    "r": {
     "delete_cmd_postfix": ") ",
     "delete_cmd_prefix": "rm(",
     "library": "var_list.r",
     "varRefreshCmd": "cat(var_dic_list()) "
    }
   },
   "types_to_exclude": [
    "module",
    "function",
    "builtin_function_or_method",
    "instance",
    "_Feature"
   ],
   "window_display": false
  }
 },
 "nbformat": 4,
 "nbformat_minor": 4
}
